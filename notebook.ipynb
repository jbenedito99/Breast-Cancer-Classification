{
 "cells": [
  {
   "cell_type": "markdown",
   "metadata": {},
   "source": [
    "## Phase 5 Project\n",
    "\n",
    "* <b>Name:</b> James Benedito\n",
    "* <b>Pace:</b> Part-Time \n",
    "* <b>Instructor:</b> Morgan Jones"
   ]
  },
  {
   "cell_type": "markdown",
   "metadata": {},
   "source": [
    "## Project Summary"
   ]
  },
  {
   "cell_type": "markdown",
   "metadata": {},
   "source": [
    "## Business Understanding\n",
    "\n",
    "Breast cancer is a prevalent disease that affects a plethora of people, mainly women, worldwide. It accounts for 12.5% of all new cancer cases, deeming it the most common cancer in the world. In the United States, around 30% of all new cancer cases diagnosed in women are breast cancer. 1 in 8 U.S. women are expected to develop breast cancer some time in their life. Currently, more than 4 million U.S. women have a history of breast cancer. It is estimated that approximately 300,000 more women in the United States will be diagnosed with breast cancer in 2023 (https://www.breastcancer.org/facts-statistics). \n",
    "\n",
    "Given the statistics, it is obvious why accurate screenings are important. The sooner a doctor is able to catch breast cancer in a patient’s imaging, the more likely they can get lifesaving treatment before their disease progresses. My main stakeholders for this project are gynecologists and other medical professionals who are in charge of examining X-rays of tumors. I want them to know the top characteristics to look out for when determining whether a tumor is cancerous or not."
   ]
  },
  {
   "cell_type": "markdown",
   "metadata": {},
   "source": [
    "## Goal\n",
    "\n",
    "For this project, my goal is to use a numeric dataset to create a classifier. My optimal classification model will deem the most important cellular characteristics that determine whether a tumor is diagnosed as malignant (cancerous) or benign (non-cancerous).   "
   ]
  },
  {
   "cell_type": "markdown",
   "metadata": {},
   "source": [
    "## Dataset \n",
    "\n",
    "The numeric dataset I will be using is called <b>breast-cancer.csv</b>, which was downloaded from Kaggle. Each row represents a tumor. Each column is a different cellular characteristic, such as mean radius and mean concavity. The target variable is the <b>diagnosis</b> column, which has an 'M' to denote 'malignant' and a 'B' to signify 'benign'.  "
   ]
  },
  {
   "cell_type": "markdown",
   "metadata": {},
   "source": [
    "## Data Exploration\n",
    "\n",
    "I will start by exploring the <b>breast-cancer.csv</b> file using the <b>.head()</b>, <b>.info()</b>, and <b>.describe()</b> methods. "
   ]
  },
  {
   "cell_type": "code",
   "execution_count": 38,
   "metadata": {},
   "outputs": [],
   "source": [
    "# import necessary packages\n",
    "import pandas as pd\n",
    "import numpy as np\n",
    "from sklearn.model_selection import train_test_split\n",
    "from sklearn.tree import DecisionTreeClassifier\n",
    "from sklearn.metrics import accuracy_score, roc_curve, auc\n",
    "from sklearn.metrics import ConfusionMatrixDisplay, confusion_matrix\n",
    "import matplotlib.pyplot as plt\n",
    "from sklearn.ensemble import RandomForestClassifier\n",
    "from sklearn.model_selection import GridSearchCV\n",
    "from sklearn.metrics import classification_report "
   ]
  },
  {
   "cell_type": "code",
   "execution_count": 2,
   "metadata": {},
   "outputs": [
    {
     "data": {
      "text/html": [
       "<div>\n",
       "<style scoped>\n",
       "    .dataframe tbody tr th:only-of-type {\n",
       "        vertical-align: middle;\n",
       "    }\n",
       "\n",
       "    .dataframe tbody tr th {\n",
       "        vertical-align: top;\n",
       "    }\n",
       "\n",
       "    .dataframe thead th {\n",
       "        text-align: right;\n",
       "    }\n",
       "</style>\n",
       "<table border=\"1\" class=\"dataframe\">\n",
       "  <thead>\n",
       "    <tr style=\"text-align: right;\">\n",
       "      <th></th>\n",
       "      <th>diagnosis</th>\n",
       "      <th>radius_mean</th>\n",
       "      <th>texture_mean</th>\n",
       "      <th>perimeter_mean</th>\n",
       "      <th>area_mean</th>\n",
       "      <th>smoothness_mean</th>\n",
       "      <th>compactness_mean</th>\n",
       "      <th>concavity_mean</th>\n",
       "      <th>concave points_mean</th>\n",
       "      <th>symmetry_mean</th>\n",
       "      <th>...</th>\n",
       "      <th>radius_worst</th>\n",
       "      <th>texture_worst</th>\n",
       "      <th>perimeter_worst</th>\n",
       "      <th>area_worst</th>\n",
       "      <th>smoothness_worst</th>\n",
       "      <th>compactness_worst</th>\n",
       "      <th>concavity_worst</th>\n",
       "      <th>concave points_worst</th>\n",
       "      <th>symmetry_worst</th>\n",
       "      <th>fractal_dimension_worst</th>\n",
       "    </tr>\n",
       "    <tr>\n",
       "      <th>id</th>\n",
       "      <th></th>\n",
       "      <th></th>\n",
       "      <th></th>\n",
       "      <th></th>\n",
       "      <th></th>\n",
       "      <th></th>\n",
       "      <th></th>\n",
       "      <th></th>\n",
       "      <th></th>\n",
       "      <th></th>\n",
       "      <th></th>\n",
       "      <th></th>\n",
       "      <th></th>\n",
       "      <th></th>\n",
       "      <th></th>\n",
       "      <th></th>\n",
       "      <th></th>\n",
       "      <th></th>\n",
       "      <th></th>\n",
       "      <th></th>\n",
       "      <th></th>\n",
       "    </tr>\n",
       "  </thead>\n",
       "  <tbody>\n",
       "    <tr>\n",
       "      <th>842302</th>\n",
       "      <td>M</td>\n",
       "      <td>17.99</td>\n",
       "      <td>10.38</td>\n",
       "      <td>122.80</td>\n",
       "      <td>1001.0</td>\n",
       "      <td>0.11840</td>\n",
       "      <td>0.27760</td>\n",
       "      <td>0.3001</td>\n",
       "      <td>0.14710</td>\n",
       "      <td>0.2419</td>\n",
       "      <td>...</td>\n",
       "      <td>25.38</td>\n",
       "      <td>17.33</td>\n",
       "      <td>184.60</td>\n",
       "      <td>2019.0</td>\n",
       "      <td>0.1622</td>\n",
       "      <td>0.6656</td>\n",
       "      <td>0.7119</td>\n",
       "      <td>0.2654</td>\n",
       "      <td>0.4601</td>\n",
       "      <td>0.11890</td>\n",
       "    </tr>\n",
       "    <tr>\n",
       "      <th>842517</th>\n",
       "      <td>M</td>\n",
       "      <td>20.57</td>\n",
       "      <td>17.77</td>\n",
       "      <td>132.90</td>\n",
       "      <td>1326.0</td>\n",
       "      <td>0.08474</td>\n",
       "      <td>0.07864</td>\n",
       "      <td>0.0869</td>\n",
       "      <td>0.07017</td>\n",
       "      <td>0.1812</td>\n",
       "      <td>...</td>\n",
       "      <td>24.99</td>\n",
       "      <td>23.41</td>\n",
       "      <td>158.80</td>\n",
       "      <td>1956.0</td>\n",
       "      <td>0.1238</td>\n",
       "      <td>0.1866</td>\n",
       "      <td>0.2416</td>\n",
       "      <td>0.1860</td>\n",
       "      <td>0.2750</td>\n",
       "      <td>0.08902</td>\n",
       "    </tr>\n",
       "    <tr>\n",
       "      <th>84300903</th>\n",
       "      <td>M</td>\n",
       "      <td>19.69</td>\n",
       "      <td>21.25</td>\n",
       "      <td>130.00</td>\n",
       "      <td>1203.0</td>\n",
       "      <td>0.10960</td>\n",
       "      <td>0.15990</td>\n",
       "      <td>0.1974</td>\n",
       "      <td>0.12790</td>\n",
       "      <td>0.2069</td>\n",
       "      <td>...</td>\n",
       "      <td>23.57</td>\n",
       "      <td>25.53</td>\n",
       "      <td>152.50</td>\n",
       "      <td>1709.0</td>\n",
       "      <td>0.1444</td>\n",
       "      <td>0.4245</td>\n",
       "      <td>0.4504</td>\n",
       "      <td>0.2430</td>\n",
       "      <td>0.3613</td>\n",
       "      <td>0.08758</td>\n",
       "    </tr>\n",
       "    <tr>\n",
       "      <th>84348301</th>\n",
       "      <td>M</td>\n",
       "      <td>11.42</td>\n",
       "      <td>20.38</td>\n",
       "      <td>77.58</td>\n",
       "      <td>386.1</td>\n",
       "      <td>0.14250</td>\n",
       "      <td>0.28390</td>\n",
       "      <td>0.2414</td>\n",
       "      <td>0.10520</td>\n",
       "      <td>0.2597</td>\n",
       "      <td>...</td>\n",
       "      <td>14.91</td>\n",
       "      <td>26.50</td>\n",
       "      <td>98.87</td>\n",
       "      <td>567.7</td>\n",
       "      <td>0.2098</td>\n",
       "      <td>0.8663</td>\n",
       "      <td>0.6869</td>\n",
       "      <td>0.2575</td>\n",
       "      <td>0.6638</td>\n",
       "      <td>0.17300</td>\n",
       "    </tr>\n",
       "    <tr>\n",
       "      <th>84358402</th>\n",
       "      <td>M</td>\n",
       "      <td>20.29</td>\n",
       "      <td>14.34</td>\n",
       "      <td>135.10</td>\n",
       "      <td>1297.0</td>\n",
       "      <td>0.10030</td>\n",
       "      <td>0.13280</td>\n",
       "      <td>0.1980</td>\n",
       "      <td>0.10430</td>\n",
       "      <td>0.1809</td>\n",
       "      <td>...</td>\n",
       "      <td>22.54</td>\n",
       "      <td>16.67</td>\n",
       "      <td>152.20</td>\n",
       "      <td>1575.0</td>\n",
       "      <td>0.1374</td>\n",
       "      <td>0.2050</td>\n",
       "      <td>0.4000</td>\n",
       "      <td>0.1625</td>\n",
       "      <td>0.2364</td>\n",
       "      <td>0.07678</td>\n",
       "    </tr>\n",
       "  </tbody>\n",
       "</table>\n",
       "<p>5 rows × 31 columns</p>\n",
       "</div>"
      ],
      "text/plain": [
       "         diagnosis  radius_mean  texture_mean  perimeter_mean  area_mean  \\\n",
       "id                                                                         \n",
       "842302           M        17.99         10.38          122.80     1001.0   \n",
       "842517           M        20.57         17.77          132.90     1326.0   \n",
       "84300903         M        19.69         21.25          130.00     1203.0   \n",
       "84348301         M        11.42         20.38           77.58      386.1   \n",
       "84358402         M        20.29         14.34          135.10     1297.0   \n",
       "\n",
       "          smoothness_mean  compactness_mean  concavity_mean  \\\n",
       "id                                                            \n",
       "842302            0.11840           0.27760          0.3001   \n",
       "842517            0.08474           0.07864          0.0869   \n",
       "84300903          0.10960           0.15990          0.1974   \n",
       "84348301          0.14250           0.28390          0.2414   \n",
       "84358402          0.10030           0.13280          0.1980   \n",
       "\n",
       "          concave points_mean  symmetry_mean  ...  radius_worst  \\\n",
       "id                                            ...                 \n",
       "842302                0.14710         0.2419  ...         25.38   \n",
       "842517                0.07017         0.1812  ...         24.99   \n",
       "84300903              0.12790         0.2069  ...         23.57   \n",
       "84348301              0.10520         0.2597  ...         14.91   \n",
       "84358402              0.10430         0.1809  ...         22.54   \n",
       "\n",
       "          texture_worst  perimeter_worst  area_worst  smoothness_worst  \\\n",
       "id                                                                       \n",
       "842302            17.33           184.60      2019.0            0.1622   \n",
       "842517            23.41           158.80      1956.0            0.1238   \n",
       "84300903          25.53           152.50      1709.0            0.1444   \n",
       "84348301          26.50            98.87       567.7            0.2098   \n",
       "84358402          16.67           152.20      1575.0            0.1374   \n",
       "\n",
       "          compactness_worst  concavity_worst  concave points_worst  \\\n",
       "id                                                                   \n",
       "842302               0.6656           0.7119                0.2654   \n",
       "842517               0.1866           0.2416                0.1860   \n",
       "84300903             0.4245           0.4504                0.2430   \n",
       "84348301             0.8663           0.6869                0.2575   \n",
       "84358402             0.2050           0.4000                0.1625   \n",
       "\n",
       "          symmetry_worst  fractal_dimension_worst  \n",
       "id                                                 \n",
       "842302            0.4601                  0.11890  \n",
       "842517            0.2750                  0.08902  \n",
       "84300903          0.3613                  0.08758  \n",
       "84348301          0.6638                  0.17300  \n",
       "84358402          0.2364                  0.07678  \n",
       "\n",
       "[5 rows x 31 columns]"
      ]
     },
     "execution_count": 2,
     "metadata": {},
     "output_type": "execute_result"
    }
   ],
   "source": [
    "# reading breast cancer data with pandas\n",
    "breast_cancer_data = pd.read_csv('breast-cancer.csv', index_col=0)\n",
    "breast_cancer_data.head()"
   ]
  },
  {
   "cell_type": "code",
   "execution_count": 3,
   "metadata": {
    "scrolled": true
   },
   "outputs": [
    {
     "name": "stdout",
     "output_type": "stream",
     "text": [
      "<class 'pandas.core.frame.DataFrame'>\n",
      "Int64Index: 569 entries, 842302 to 92751\n",
      "Data columns (total 31 columns):\n",
      " #   Column                   Non-Null Count  Dtype  \n",
      "---  ------                   --------------  -----  \n",
      " 0   diagnosis                569 non-null    object \n",
      " 1   radius_mean              569 non-null    float64\n",
      " 2   texture_mean             569 non-null    float64\n",
      " 3   perimeter_mean           569 non-null    float64\n",
      " 4   area_mean                569 non-null    float64\n",
      " 5   smoothness_mean          569 non-null    float64\n",
      " 6   compactness_mean         569 non-null    float64\n",
      " 7   concavity_mean           569 non-null    float64\n",
      " 8   concave points_mean      569 non-null    float64\n",
      " 9   symmetry_mean            569 non-null    float64\n",
      " 10  fractal_dimension_mean   569 non-null    float64\n",
      " 11  radius_se                569 non-null    float64\n",
      " 12  texture_se               569 non-null    float64\n",
      " 13  perimeter_se             569 non-null    float64\n",
      " 14  area_se                  569 non-null    float64\n",
      " 15  smoothness_se            569 non-null    float64\n",
      " 16  compactness_se           569 non-null    float64\n",
      " 17  concavity_se             569 non-null    float64\n",
      " 18  concave points_se        569 non-null    float64\n",
      " 19  symmetry_se              569 non-null    float64\n",
      " 20  fractal_dimension_se     569 non-null    float64\n",
      " 21  radius_worst             569 non-null    float64\n",
      " 22  texture_worst            569 non-null    float64\n",
      " 23  perimeter_worst          569 non-null    float64\n",
      " 24  area_worst               569 non-null    float64\n",
      " 25  smoothness_worst         569 non-null    float64\n",
      " 26  compactness_worst        569 non-null    float64\n",
      " 27  concavity_worst          569 non-null    float64\n",
      " 28  concave points_worst     569 non-null    float64\n",
      " 29  symmetry_worst           569 non-null    float64\n",
      " 30  fractal_dimension_worst  569 non-null    float64\n",
      "dtypes: float64(30), object(1)\n",
      "memory usage: 142.2+ KB\n"
     ]
    }
   ],
   "source": [
    "breast_cancer_data.info()"
   ]
  },
  {
   "cell_type": "code",
   "execution_count": 4,
   "metadata": {},
   "outputs": [
    {
     "data": {
      "text/html": [
       "<div>\n",
       "<style scoped>\n",
       "    .dataframe tbody tr th:only-of-type {\n",
       "        vertical-align: middle;\n",
       "    }\n",
       "\n",
       "    .dataframe tbody tr th {\n",
       "        vertical-align: top;\n",
       "    }\n",
       "\n",
       "    .dataframe thead th {\n",
       "        text-align: right;\n",
       "    }\n",
       "</style>\n",
       "<table border=\"1\" class=\"dataframe\">\n",
       "  <thead>\n",
       "    <tr style=\"text-align: right;\">\n",
       "      <th></th>\n",
       "      <th>radius_mean</th>\n",
       "      <th>texture_mean</th>\n",
       "      <th>perimeter_mean</th>\n",
       "      <th>area_mean</th>\n",
       "      <th>smoothness_mean</th>\n",
       "      <th>compactness_mean</th>\n",
       "      <th>concavity_mean</th>\n",
       "      <th>concave points_mean</th>\n",
       "      <th>symmetry_mean</th>\n",
       "      <th>fractal_dimension_mean</th>\n",
       "      <th>...</th>\n",
       "      <th>radius_worst</th>\n",
       "      <th>texture_worst</th>\n",
       "      <th>perimeter_worst</th>\n",
       "      <th>area_worst</th>\n",
       "      <th>smoothness_worst</th>\n",
       "      <th>compactness_worst</th>\n",
       "      <th>concavity_worst</th>\n",
       "      <th>concave points_worst</th>\n",
       "      <th>symmetry_worst</th>\n",
       "      <th>fractal_dimension_worst</th>\n",
       "    </tr>\n",
       "  </thead>\n",
       "  <tbody>\n",
       "    <tr>\n",
       "      <th>count</th>\n",
       "      <td>569.000000</td>\n",
       "      <td>569.000000</td>\n",
       "      <td>569.000000</td>\n",
       "      <td>569.000000</td>\n",
       "      <td>569.000000</td>\n",
       "      <td>569.000000</td>\n",
       "      <td>569.000000</td>\n",
       "      <td>569.000000</td>\n",
       "      <td>569.000000</td>\n",
       "      <td>569.000000</td>\n",
       "      <td>...</td>\n",
       "      <td>569.000000</td>\n",
       "      <td>569.000000</td>\n",
       "      <td>569.000000</td>\n",
       "      <td>569.000000</td>\n",
       "      <td>569.000000</td>\n",
       "      <td>569.000000</td>\n",
       "      <td>569.000000</td>\n",
       "      <td>569.000000</td>\n",
       "      <td>569.000000</td>\n",
       "      <td>569.000000</td>\n",
       "    </tr>\n",
       "    <tr>\n",
       "      <th>mean</th>\n",
       "      <td>14.127292</td>\n",
       "      <td>19.289649</td>\n",
       "      <td>91.969033</td>\n",
       "      <td>654.889104</td>\n",
       "      <td>0.096360</td>\n",
       "      <td>0.104341</td>\n",
       "      <td>0.088799</td>\n",
       "      <td>0.048919</td>\n",
       "      <td>0.181162</td>\n",
       "      <td>0.062798</td>\n",
       "      <td>...</td>\n",
       "      <td>16.269190</td>\n",
       "      <td>25.677223</td>\n",
       "      <td>107.261213</td>\n",
       "      <td>880.583128</td>\n",
       "      <td>0.132369</td>\n",
       "      <td>0.254265</td>\n",
       "      <td>0.272188</td>\n",
       "      <td>0.114606</td>\n",
       "      <td>0.290076</td>\n",
       "      <td>0.083946</td>\n",
       "    </tr>\n",
       "    <tr>\n",
       "      <th>std</th>\n",
       "      <td>3.524049</td>\n",
       "      <td>4.301036</td>\n",
       "      <td>24.298981</td>\n",
       "      <td>351.914129</td>\n",
       "      <td>0.014064</td>\n",
       "      <td>0.052813</td>\n",
       "      <td>0.079720</td>\n",
       "      <td>0.038803</td>\n",
       "      <td>0.027414</td>\n",
       "      <td>0.007060</td>\n",
       "      <td>...</td>\n",
       "      <td>4.833242</td>\n",
       "      <td>6.146258</td>\n",
       "      <td>33.602542</td>\n",
       "      <td>569.356993</td>\n",
       "      <td>0.022832</td>\n",
       "      <td>0.157336</td>\n",
       "      <td>0.208624</td>\n",
       "      <td>0.065732</td>\n",
       "      <td>0.061867</td>\n",
       "      <td>0.018061</td>\n",
       "    </tr>\n",
       "    <tr>\n",
       "      <th>min</th>\n",
       "      <td>6.981000</td>\n",
       "      <td>9.710000</td>\n",
       "      <td>43.790000</td>\n",
       "      <td>143.500000</td>\n",
       "      <td>0.052630</td>\n",
       "      <td>0.019380</td>\n",
       "      <td>0.000000</td>\n",
       "      <td>0.000000</td>\n",
       "      <td>0.106000</td>\n",
       "      <td>0.049960</td>\n",
       "      <td>...</td>\n",
       "      <td>7.930000</td>\n",
       "      <td>12.020000</td>\n",
       "      <td>50.410000</td>\n",
       "      <td>185.200000</td>\n",
       "      <td>0.071170</td>\n",
       "      <td>0.027290</td>\n",
       "      <td>0.000000</td>\n",
       "      <td>0.000000</td>\n",
       "      <td>0.156500</td>\n",
       "      <td>0.055040</td>\n",
       "    </tr>\n",
       "    <tr>\n",
       "      <th>25%</th>\n",
       "      <td>11.700000</td>\n",
       "      <td>16.170000</td>\n",
       "      <td>75.170000</td>\n",
       "      <td>420.300000</td>\n",
       "      <td>0.086370</td>\n",
       "      <td>0.064920</td>\n",
       "      <td>0.029560</td>\n",
       "      <td>0.020310</td>\n",
       "      <td>0.161900</td>\n",
       "      <td>0.057700</td>\n",
       "      <td>...</td>\n",
       "      <td>13.010000</td>\n",
       "      <td>21.080000</td>\n",
       "      <td>84.110000</td>\n",
       "      <td>515.300000</td>\n",
       "      <td>0.116600</td>\n",
       "      <td>0.147200</td>\n",
       "      <td>0.114500</td>\n",
       "      <td>0.064930</td>\n",
       "      <td>0.250400</td>\n",
       "      <td>0.071460</td>\n",
       "    </tr>\n",
       "    <tr>\n",
       "      <th>50%</th>\n",
       "      <td>13.370000</td>\n",
       "      <td>18.840000</td>\n",
       "      <td>86.240000</td>\n",
       "      <td>551.100000</td>\n",
       "      <td>0.095870</td>\n",
       "      <td>0.092630</td>\n",
       "      <td>0.061540</td>\n",
       "      <td>0.033500</td>\n",
       "      <td>0.179200</td>\n",
       "      <td>0.061540</td>\n",
       "      <td>...</td>\n",
       "      <td>14.970000</td>\n",
       "      <td>25.410000</td>\n",
       "      <td>97.660000</td>\n",
       "      <td>686.500000</td>\n",
       "      <td>0.131300</td>\n",
       "      <td>0.211900</td>\n",
       "      <td>0.226700</td>\n",
       "      <td>0.099930</td>\n",
       "      <td>0.282200</td>\n",
       "      <td>0.080040</td>\n",
       "    </tr>\n",
       "    <tr>\n",
       "      <th>75%</th>\n",
       "      <td>15.780000</td>\n",
       "      <td>21.800000</td>\n",
       "      <td>104.100000</td>\n",
       "      <td>782.700000</td>\n",
       "      <td>0.105300</td>\n",
       "      <td>0.130400</td>\n",
       "      <td>0.130700</td>\n",
       "      <td>0.074000</td>\n",
       "      <td>0.195700</td>\n",
       "      <td>0.066120</td>\n",
       "      <td>...</td>\n",
       "      <td>18.790000</td>\n",
       "      <td>29.720000</td>\n",
       "      <td>125.400000</td>\n",
       "      <td>1084.000000</td>\n",
       "      <td>0.146000</td>\n",
       "      <td>0.339100</td>\n",
       "      <td>0.382900</td>\n",
       "      <td>0.161400</td>\n",
       "      <td>0.317900</td>\n",
       "      <td>0.092080</td>\n",
       "    </tr>\n",
       "    <tr>\n",
       "      <th>max</th>\n",
       "      <td>28.110000</td>\n",
       "      <td>39.280000</td>\n",
       "      <td>188.500000</td>\n",
       "      <td>2501.000000</td>\n",
       "      <td>0.163400</td>\n",
       "      <td>0.345400</td>\n",
       "      <td>0.426800</td>\n",
       "      <td>0.201200</td>\n",
       "      <td>0.304000</td>\n",
       "      <td>0.097440</td>\n",
       "      <td>...</td>\n",
       "      <td>36.040000</td>\n",
       "      <td>49.540000</td>\n",
       "      <td>251.200000</td>\n",
       "      <td>4254.000000</td>\n",
       "      <td>0.222600</td>\n",
       "      <td>1.058000</td>\n",
       "      <td>1.252000</td>\n",
       "      <td>0.291000</td>\n",
       "      <td>0.663800</td>\n",
       "      <td>0.207500</td>\n",
       "    </tr>\n",
       "  </tbody>\n",
       "</table>\n",
       "<p>8 rows × 30 columns</p>\n",
       "</div>"
      ],
      "text/plain": [
       "       radius_mean  texture_mean  perimeter_mean    area_mean  \\\n",
       "count   569.000000    569.000000      569.000000   569.000000   \n",
       "mean     14.127292     19.289649       91.969033   654.889104   \n",
       "std       3.524049      4.301036       24.298981   351.914129   \n",
       "min       6.981000      9.710000       43.790000   143.500000   \n",
       "25%      11.700000     16.170000       75.170000   420.300000   \n",
       "50%      13.370000     18.840000       86.240000   551.100000   \n",
       "75%      15.780000     21.800000      104.100000   782.700000   \n",
       "max      28.110000     39.280000      188.500000  2501.000000   \n",
       "\n",
       "       smoothness_mean  compactness_mean  concavity_mean  concave points_mean  \\\n",
       "count       569.000000        569.000000      569.000000           569.000000   \n",
       "mean          0.096360          0.104341        0.088799             0.048919   \n",
       "std           0.014064          0.052813        0.079720             0.038803   \n",
       "min           0.052630          0.019380        0.000000             0.000000   \n",
       "25%           0.086370          0.064920        0.029560             0.020310   \n",
       "50%           0.095870          0.092630        0.061540             0.033500   \n",
       "75%           0.105300          0.130400        0.130700             0.074000   \n",
       "max           0.163400          0.345400        0.426800             0.201200   \n",
       "\n",
       "       symmetry_mean  fractal_dimension_mean  ...  radius_worst  \\\n",
       "count     569.000000              569.000000  ...    569.000000   \n",
       "mean        0.181162                0.062798  ...     16.269190   \n",
       "std         0.027414                0.007060  ...      4.833242   \n",
       "min         0.106000                0.049960  ...      7.930000   \n",
       "25%         0.161900                0.057700  ...     13.010000   \n",
       "50%         0.179200                0.061540  ...     14.970000   \n",
       "75%         0.195700                0.066120  ...     18.790000   \n",
       "max         0.304000                0.097440  ...     36.040000   \n",
       "\n",
       "       texture_worst  perimeter_worst   area_worst  smoothness_worst  \\\n",
       "count     569.000000       569.000000   569.000000        569.000000   \n",
       "mean       25.677223       107.261213   880.583128          0.132369   \n",
       "std         6.146258        33.602542   569.356993          0.022832   \n",
       "min        12.020000        50.410000   185.200000          0.071170   \n",
       "25%        21.080000        84.110000   515.300000          0.116600   \n",
       "50%        25.410000        97.660000   686.500000          0.131300   \n",
       "75%        29.720000       125.400000  1084.000000          0.146000   \n",
       "max        49.540000       251.200000  4254.000000          0.222600   \n",
       "\n",
       "       compactness_worst  concavity_worst  concave points_worst  \\\n",
       "count         569.000000       569.000000            569.000000   \n",
       "mean            0.254265         0.272188              0.114606   \n",
       "std             0.157336         0.208624              0.065732   \n",
       "min             0.027290         0.000000              0.000000   \n",
       "25%             0.147200         0.114500              0.064930   \n",
       "50%             0.211900         0.226700              0.099930   \n",
       "75%             0.339100         0.382900              0.161400   \n",
       "max             1.058000         1.252000              0.291000   \n",
       "\n",
       "       symmetry_worst  fractal_dimension_worst  \n",
       "count      569.000000               569.000000  \n",
       "mean         0.290076                 0.083946  \n",
       "std          0.061867                 0.018061  \n",
       "min          0.156500                 0.055040  \n",
       "25%          0.250400                 0.071460  \n",
       "50%          0.282200                 0.080040  \n",
       "75%          0.317900                 0.092080  \n",
       "max          0.663800                 0.207500  \n",
       "\n",
       "[8 rows x 30 columns]"
      ]
     },
     "execution_count": 4,
     "metadata": {},
     "output_type": "execute_result"
    }
   ],
   "source": [
    "breast_cancer_data.describe()"
   ]
  },
  {
   "cell_type": "markdown",
   "metadata": {},
   "source": [
    "From our initial exploration, we see that this dataset has <b>about 600 rows</b> and <b>around 30 columns</b>. Most of the columns house numeric data, except for the <b>diagnosis</b> column, which is our binary target variable."
   ]
  },
  {
   "cell_type": "markdown",
   "metadata": {},
   "source": [
    "## Data Preparation and Cleaning\n",
    "\n",
    "Following our initial exploration of the dataset, let's take a look at things we may need to address prior to modeling. One consideration is possible <b>class imbalance</b> and <b>handling null values</b>. I will preview possible class imbalance by employing the <b>.value_counts()</b> method and use the <b>.isnull().sum()</b> method to determine whether there are any missing values that need to be taken care of."
   ]
  },
  {
   "cell_type": "code",
   "execution_count": 5,
   "metadata": {},
   "outputs": [
    {
     "data": {
      "text/plain": [
       "diagnosis                  0\n",
       "radius_mean                0\n",
       "texture_mean               0\n",
       "perimeter_mean             0\n",
       "area_mean                  0\n",
       "smoothness_mean            0\n",
       "compactness_mean           0\n",
       "concavity_mean             0\n",
       "concave points_mean        0\n",
       "symmetry_mean              0\n",
       "fractal_dimension_mean     0\n",
       "radius_se                  0\n",
       "texture_se                 0\n",
       "perimeter_se               0\n",
       "area_se                    0\n",
       "smoothness_se              0\n",
       "compactness_se             0\n",
       "concavity_se               0\n",
       "concave points_se          0\n",
       "symmetry_se                0\n",
       "fractal_dimension_se       0\n",
       "radius_worst               0\n",
       "texture_worst              0\n",
       "perimeter_worst            0\n",
       "area_worst                 0\n",
       "smoothness_worst           0\n",
       "compactness_worst          0\n",
       "concavity_worst            0\n",
       "concave points_worst       0\n",
       "symmetry_worst             0\n",
       "fractal_dimension_worst    0\n",
       "dtype: int64"
      ]
     },
     "execution_count": 5,
     "metadata": {},
     "output_type": "execute_result"
    }
   ],
   "source": [
    "# checking for null values\n",
    "breast_cancer_data.isnull().sum()"
   ]
  },
  {
   "cell_type": "code",
   "execution_count": 6,
   "metadata": {},
   "outputs": [
    {
     "data": {
      "text/plain": [
       "B    357\n",
       "M    212\n",
       "Name: diagnosis, dtype: int64"
      ]
     },
     "execution_count": 6,
     "metadata": {},
     "output_type": "execute_result"
    }
   ],
   "source": [
    "# previewing possible class imbalance\n",
    "breast_cancer_data['diagnosis'].value_counts()"
   ]
  },
  {
   "cell_type": "code",
   "execution_count": 7,
   "metadata": {},
   "outputs": [
    {
     "data": {
      "text/plain": [
       "<AxesSubplot:>"
      ]
     },
     "execution_count": 7,
     "metadata": {},
     "output_type": "execute_result"
    },
    {
     "data": {
      "image/png": "[encoded data removed]",
      "text/plain": [
       "<Figure size 432x288 with 1 Axes>"
      ]
     },
     "metadata": {
      "needs_background": "light"
     },
     "output_type": "display_data"
    }
   ],
   "source": [
    "# graphing value_counts\n",
    "breast_cancer_data.diagnosis.value_counts().plot(kind='bar')"
   ]
  },
  {
   "cell_type": "markdown",
   "metadata": {},
   "source": [
    "From <b>.isnull().sum()</b>, we see that there are <b>no null values</b> that need to be handled. From <b>.value_counts()</b>, we see that there is some slight class imbalance within the dataset. A 'B' indicates a 'benign' tumor while an 'M' signifies 'malignancy'. Based on the values for each binary indicator, we see that the data is split almost 60-40 with about 60% of the tumors being classified as benign and around 40% of the tumors in the dataset being diagnosed as malignant. Because the minority class makes up <b>more than 10%</b> of the dataset, I will consider there to be no class imbalance problem that needs to be addressed. While there are no null values and class imbalance, one thing that still must be done is changing the letters in the categorical <b>diagnosis</b> column. I will use the <b>.replace()</b> method to change 'B' to an integer of '0' and 'M' to an integer of '1'. I will employ <b>.value_counts()</b> to confirm that the replacement was successful. "
   ]
  },
  {
   "cell_type": "code",
   "execution_count": 8,
   "metadata": {},
   "outputs": [
    {
     "data": {
      "text/plain": [
       "0    357\n",
       "1    212\n",
       "Name: diagnosis, dtype: int64"
      ]
     },
     "execution_count": 8,
     "metadata": {},
     "output_type": "execute_result"
    }
   ],
   "source": [
    "# converting ['B', 'M'] of diagnosis column to ['0', '1']\n",
    "breast_cancer_data['diagnosis'].replace(['B', 'M'], [0, 1], inplace=True)\n",
    "breast_cancer_data['diagnosis'].value_counts()"
   ]
  },
  {
   "cell_type": "markdown",
   "metadata": {},
   "source": [
    "Now, we can begin the iterative modeling process."
   ]
  },
  {
   "cell_type": "markdown",
   "metadata": {},
   "source": [
    "## Iterative Modeling\n",
    "\n",
    "During my iterative modeling process, I plan to create a series of classifiers. I will generate several <b>single decision trees</b> and <b>random forests</b> to see which model type yields the best metrics. From there, I will make my final decision on the best overall classifier for the data. \n",
    "\n",
    "To begin, we need to specify the target variable and predictors. Then, we need to employ <b>train_test_split()</b> to split the <b>breast_cancer_data</b> into training and test sets. We will set <b>random_state=10</b> for reproducibility and do an <b>80/20</b> split."
   ]
  },
  {
   "cell_type": "code",
   "execution_count": 9,
   "metadata": {},
   "outputs": [],
   "source": [
    "# set target variable and predictors\n",
    "X = breast_cancer_data.drop('diagnosis', axis=1)\n",
    "y = breast_cancer_data['diagnosis']\n",
    "\n",
    "# perform 80-20 train_test_split\n",
    "X_train, X_test, y_train, y_test = train_test_split(X, y, test_size=0.20, random_state=10)"
   ]
  },
  {
   "cell_type": "markdown",
   "metadata": {},
   "source": [
    "To be safe, we'll check for possible class imbalance again within the training and test sets."
   ]
  },
  {
   "cell_type": "code",
   "execution_count": 10,
   "metadata": {},
   "outputs": [
    {
     "name": "stdout",
     "output_type": "stream",
     "text": [
      "0    282\n",
      "1    173\n",
      "Name: diagnosis, dtype: int64\n",
      "0    75\n",
      "1    39\n",
      "Name: diagnosis, dtype: int64\n"
     ]
    }
   ],
   "source": [
    "# checking for class imbalance in training and test set\n",
    "print(y_train.value_counts())\n",
    "print(y_test.value_counts())"
   ]
  },
  {
   "cell_type": "markdown",
   "metadata": {},
   "source": [
    "From <b>.value_counts()</b>, we see that class imbalance isn't a problem for both the training and test sets. In <b>y_train</b>, the split is about 60-40 for 'benign' and 'malignant', similar to the original dataset prior to the train-test split. For <b>y_test</b>, the split is around 65-35 for 'benign' and 'malignant', so there is also no dire class imbalance issue that needs to be considered."
   ]
  },
  {
   "cell_type": "markdown",
   "metadata": {},
   "source": [
    "## Model 1a: Baseline Decision Tree\n",
    "\n",
    "For my first classifier, I will make a <b>decision tree</b>. I will start with a <b>baseline decision tree</b> that has default parameters (with the exception of <b>random_state=10</b> for reproducibility). Once the classifier is trained on the training data and used to predict the test data, I will evaluate its performance using <b>accuracy_score</b> and <b>AUC</b> metrics. I will also generate a <b>confusion matrix</b> to get an understanding of the correctly predicted values versus any type 1 and type 2 errors that may arise. "
   ]
  },
  {
   "cell_type": "code",
   "execution_count": 11,
   "metadata": {},
   "outputs": [],
   "source": [
    "# train baseline decision tree classifier, then use it to predict test data\n",
    "\n",
    "# instantiate DecisionTreeClassifier with random_state=10\n",
    "dtree_baseline = DecisionTreeClassifier(random_state=10)\n",
    "\n",
    "# fit classifier to training data\n",
    "dtree_baseline.fit(X_train, y_train)\n",
    "\n",
    "# predict test data\n",
    "pred = dtree_baseline.predict(X_test) "
   ]
  },
  {
   "cell_type": "code",
   "execution_count": 12,
   "metadata": {},
   "outputs": [
    {
     "name": "stdout",
     "output_type": "stream",
     "text": [
      "Testing Accuracy for Baseline Decision Tree Classifier: 85.96%\n",
      "\n",
      "AUC is: 0.87\n"
     ]
    }
   ],
   "source": [
    "# calculate accuracy_score and AUC for test data to evaluate classifier performance\n",
    "\n",
    "# print accuracy_score\n",
    "print(\"Testing Accuracy for Baseline Decision Tree Classifier: {:.4}%\".format(accuracy_score(y_test, pred) * 100))\n",
    "\n",
    "# check AUC for predictions\n",
    "false_positive_rate, true_positive_rate, thresholds = roc_curve(y_test, pred)\n",
    "roc_auc = auc(false_positive_rate, true_positive_rate)\n",
    "print('\\nAUC is: {0}'.format(round(roc_auc, 2)))"
   ]
  },
  {
   "cell_type": "code",
   "execution_count": 13,
   "metadata": {},
   "outputs": [
    {
     "data": {
      "image/png": "[encoded data removed]",
      "text/plain": [
       "<Figure size 432x288 with 2 Axes>"
      ]
     },
     "metadata": {
      "needs_background": "light"
     },
     "output_type": "display_data"
    }
   ],
   "source": [
    "# generate confusion matrix\n",
    "cnf_matrix = confusion_matrix(y_test, pred)\n",
    "disp = ConfusionMatrixDisplay(confusion_matrix=cnf_matrix, display_labels=dtree_baseline.classes_)\n",
    "disp.plot(cmap=plt.cm.Blues);"
   ]
  },
  {
   "cell_type": "markdown",
   "metadata": {},
   "source": [
    "For the <b>baseline decision tree</b>, the performance metrics are decent. The testing <b>accuracy</b> is <b>about 86%</b> and the <b>AUC</b> is <b>0.87</b>. With AUC ranging between 0.0-1.0, a value of 0.5 means a model is worthless; an AUC of 0.87 lies a great deal above this threshold. \n",
    "\n",
    "From the <b>confusion matrix</b>, we see that the classifier has some Type 1 and Type 2 errors, being 13 and 3, respectively, out of a test sample size of 114. It picks up true negatives (actually benign) and true positives (actually malignant) well. \n",
    "\n",
    "Considering the context of our business problem, <b>the model's ability to detect true positives (malignancy) is more important</b> because these represent <b>patients who have breast cancer</b>. Our goal should be <b>reducing the Type 2 error rate</b> as much as possible because these are errors where someone was <b>predicted to have a benign tumor that was actually malignant (cancerous)</b>. However, <b>bringing down the Type 1 error rate</b> is also important because we don't want to give patients a cancer scare who don't really have the disease. Comparing both error types, Type 2 errors can be more fatal; if a patient is deemed as having a non-cancerous tumor when it's actually cancerous, this will prevent them from getting potentially life-saving treatment right away. Therefore, while both error types are bad, if we had to choose, keeping the Type 2 error rate low should be our top priority."
   ]
  },
  {
   "cell_type": "markdown",
   "metadata": {},
   "source": [
    "In addition to looking at <b>test data accuracy</b>, we should also look at <b>training data accuracy</b> to see indications of potential <b>overfitting</b> or <b>underfitting</b>. We can achieve this by using the <b>.score()</b> method."
   ]
  },
  {
   "cell_type": "code",
   "execution_count": 14,
   "metadata": {},
   "outputs": [
    {
     "name": "stdout",
     "output_type": "stream",
     "text": [
      "Training Score:  1.0\n",
      "Testing Score:  0.8596491228070176\n"
     ]
    }
   ],
   "source": [
    "# compare accuracy for training and test data using .score()\n",
    "print('Training Score: ', dtree_baseline.score(X_train, y_train))\n",
    "print('Testing Score: ', dtree_baseline.score(X_test, y_test))"
   ]
  },
  {
   "cell_type": "markdown",
   "metadata": {},
   "source": [
    "From <b>.score()</b>, we see that the <b>training data</b> has an <b>accuracy of 100%</b>. Because the accuracy scores for the training and test data are highly different, this is indicative of an <b>overfitting</b> issue."
   ]
  },
  {
   "cell_type": "markdown",
   "metadata": {},
   "source": [
    "## Model 1b: Hypertuned Decision Tree\n",
    "\n",
    "Let's create another version of the decision tree classifier called <b>dtree_tuned</b>. Instead of using the default parameters like the baseline, we can do some tree \"pruning\" and see if it improves the model's performance. By comparing the training and test scores earlier, we saw that the baseline decision tree did better accuracy-wise on the training data as compared to the test data, thus indicating possible overfitting. One way to reduce this overfitting issue is to adjust <b>max_depth</b>. I will determine the optimal max_depth for the training and test data by graphing various depth values against their AUC score."
   ]
  },
  {
   "cell_type": "code",
   "execution_count": 15,
   "metadata": {},
   "outputs": [
    {
     "data": {
      "image/png": "[encoded data removed]",
      "text/plain": [
       "<Figure size 864x432 with 1 Axes>"
      ]
     },
     "metadata": {
      "needs_background": "light"
     },
     "output_type": "display_data"
    }
   ],
   "source": [
    "# identify optimal max_depth\n",
    "max_depths = list(range(1, 33))\n",
    "train_results = []\n",
    "test_results = []\n",
    "for max_depth in max_depths:\n",
    "    dt = DecisionTreeClassifier(max_depth=max_depth, random_state=10)\n",
    "    dt.fit(X_train, y_train)\n",
    "    train_pred = dt.predict(X_train)\n",
    "    false_positive_rate, true_positive_rate, thresholds = roc_curve(y_train, train_pred)\n",
    "    roc_auc = auc(false_positive_rate, true_positive_rate)\n",
    "    # Add auc score to previous train results\n",
    "    train_results.append(roc_auc)\n",
    "    y_pred = dt.predict(X_test)\n",
    "    false_positive_rate, true_positive_rate, thresholds = roc_curve(y_test, y_pred)\n",
    "    roc_auc = auc(false_positive_rate, true_positive_rate)\n",
    "    # Add auc score to previous test results\n",
    "    test_results.append(roc_auc)\n",
    "\n",
    "plt.figure(figsize=(12,6))\n",
    "plt.plot(max_depths, train_results, 'b', label='Train AUC')\n",
    "plt.plot(max_depths, test_results, 'r', label='Test AUC')\n",
    "plt.ylabel('AUC score')\n",
    "plt.xlabel('Tree depth')\n",
    "plt.legend()\n",
    "plt.show()"
   ]
  },
  {
   "cell_type": "markdown",
   "metadata": {},
   "source": [
    "From the graph, we see that the training data and test data don't have a particular max_depth value where their AUC scores align. However, the test data AUC is the highest at a max_depth around 7. Let's recreate our decision tree with a specified <b>max_depth=7</b> and see what happens."
   ]
  },
  {
   "cell_type": "code",
   "execution_count": 16,
   "metadata": {},
   "outputs": [],
   "source": [
    "# train hypertuned decision tree classifier, then use it to predict test data\n",
    "\n",
    "# instantiate DecisionTreeClassifier with random_state=10 and max_depth=7\n",
    "dtree_tuned = DecisionTreeClassifier(random_state=10, max_depth=7)\n",
    "\n",
    "# fit classifier to training data\n",
    "dtree_tuned.fit(X_train, y_train)\n",
    "\n",
    "# predict test data\n",
    "pred_tuned = dtree_tuned.predict(X_test) "
   ]
  },
  {
   "cell_type": "code",
   "execution_count": 17,
   "metadata": {},
   "outputs": [
    {
     "name": "stdout",
     "output_type": "stream",
     "text": [
      "Testing Accuracy for Hypertuned Decision Tree Classifier: 92.98%\n",
      "\n",
      "AUC is: 0.93\n"
     ]
    }
   ],
   "source": [
    "# calculate accuracy_score and AUC for test data to evaluate classifier performance\n",
    "\n",
    "# print accuracy_score\n",
    "print(\"Testing Accuracy for Hypertuned Decision Tree Classifier: {:.4}%\".format(accuracy_score(y_test, pred_tuned) * 100))\n",
    "\n",
    "# check AUC for predictions\n",
    "false_positive_rate, true_positive_rate, thresholds = roc_curve(y_test, pred_tuned)\n",
    "roc_auc = auc(false_positive_rate, true_positive_rate)\n",
    "print('\\nAUC is: {0}'.format(round(roc_auc, 2)))"
   ]
  },
  {
   "cell_type": "code",
   "execution_count": 18,
   "metadata": {
    "scrolled": true
   },
   "outputs": [
    {
     "data": {
      "image/png": "[encoded data removed]",
      "text/plain": [
       "<Figure size 432x288 with 2 Axes>"
      ]
     },
     "metadata": {
      "needs_background": "light"
     },
     "output_type": "display_data"
    }
   ],
   "source": [
    "# generate confusion matrix\n",
    "\n",
    "cnf_matrix = confusion_matrix(y_test, pred_tuned)\n",
    "disp = ConfusionMatrixDisplay(confusion_matrix=cnf_matrix, display_labels=dtree_tuned.classes_)\n",
    "disp.plot(cmap=plt.cm.Blues);"
   ]
  },
  {
   "cell_type": "code",
   "execution_count": 19,
   "metadata": {},
   "outputs": [
    {
     "name": "stdout",
     "output_type": "stream",
     "text": [
      "Training Score:  0.9934065934065934\n",
      "Testing Score:  0.9298245614035088\n"
     ]
    }
   ],
   "source": [
    "# compare accuracy for training and test data using .score()\n",
    "print('Training Score: ', dtree_tuned.score(X_train, y_train))\n",
    "print('Testing Score: ', dtree_tuned.score(X_test, y_test))"
   ]
  },
  {
   "cell_type": "markdown",
   "metadata": {},
   "source": [
    "Based on our evaluation metrics, the <b>hypertuned decision tree</b> is an improvement from the <b>baseline decision tree</b>. The <b>accuracy</b> for <b>dtree_tuned</b> is <b>about 93%</b>, which is <b>an 8% increase</b> from <b>dtree_baseline</b>. The <b>AUC</b> also shows <b>an increase from 0.87 to 0.93</b>. \n",
    "\n",
    "From the <b>confusion matrix</b>, we see an <b>improvement in the Type 1 error rate</b>. The <b>number of false positives has decreased from 13 to 5</b> when comparing <b>dtree_baseline</b> and <b>dtree_tuned</b>. In terms of the <b>Type 2 error rate</b>, it is the <b>same</b>, with the <b>number of false negatives still being 3</b>. One other thing to notice is that the <b>gap between the training and test scores has decreased</b> for the hypertuned decision tree model, meaning the overfitting issue seen with <b>dtree_baseline</b> is not as apparent with <b>dtree_tuned</b>."
   ]
  },
  {
   "cell_type": "markdown",
   "metadata": {},
   "source": [
    "## Model 2a: Random Forest\n",
    "\n",
    "For my second classifier type, I will create a <b>random forest</b>. This will be more complex than the single decision trees generated previously because this is an ensemble method. To start, I will make a vanilla random forest with default parameters (besides <b>random_state=10</b> for reproducibility). "
   ]
  },
  {
   "cell_type": "code",
   "execution_count": 24,
   "metadata": {},
   "outputs": [],
   "source": [
    "# creating baseline random forest classifer\n",
    "\n",
    "# instantiate RandomForestClassifier with random_state=10 for reproducibility\n",
    "forest_baseline = RandomForestClassifier(random_state=10)\n",
    "\n",
    "# fit training data\n",
    "forest_baseline.fit(X_train, y_train)\n",
    "\n",
    "# predict test data\n",
    "forest_baseline_preds = forest_baseline.predict(X_test)"
   ]
  },
  {
   "cell_type": "code",
   "execution_count": 25,
   "metadata": {},
   "outputs": [
    {
     "name": "stdout",
     "output_type": "stream",
     "text": [
      "Testing Accuracy for Random Forest Classifier: 98.25%\n",
      "\n",
      "AUC is: 0.99\n"
     ]
    }
   ],
   "source": [
    "# calculate accuracy_score and AUC for test data to evaluate classifier performance\n",
    "\n",
    "# print accuracy_score\n",
    "print(\"Testing Accuracy for Random Forest Classifier: {:.4}%\".format(accuracy_score(y_test, forest_baseline_preds) * 100))\n",
    "\n",
    "# check AUC for predictions\n",
    "false_positive_rate, true_positive_rate, thresholds = roc_curve(y_test, forest_baseline_preds)\n",
    "roc_auc = auc(false_positive_rate, true_positive_rate)\n",
    "print('\\nAUC is: {0}'.format(round(roc_auc, 2)))"
   ]
  },
  {
   "cell_type": "code",
   "execution_count": 26,
   "metadata": {},
   "outputs": [
    {
     "data": {
      "image/png": "[encoded data removed]",
      "text/plain": [
       "<Figure size 432x288 with 2 Axes>"
      ]
     },
     "metadata": {
      "needs_background": "light"
     },
     "output_type": "display_data"
    }
   ],
   "source": [
    "# generate confusion matrix\n",
    "\n",
    "cnf_matrix = confusion_matrix(y_test, forest_baseline_preds)\n",
    "disp = ConfusionMatrixDisplay(confusion_matrix=cnf_matrix, display_labels=forest_baseline.classes_)\n",
    "disp.plot(cmap=plt.cm.Blues);"
   ]
  },
  {
   "cell_type": "markdown",
   "metadata": {},
   "source": [
    "For <b>forest_baseline</b>, the testing <b>accuracy</b> is <b>about 98%</b> and the <b>AUC</b> is <b>0.99</b>. From the confusion matrix, we see that there are <b>only 2 false positives</b> and <b>no false negatives</b>. The <b>low rates for both Type 1 and Type 2 errors</b> is encouraging. With this model, <b>all patients that have malignant tumors would be successfully diagnosed</b>. Compared to <b>dtree_baseline</b> and <b>dtree_tuned</b>, <b>forest_baseline</b> is by far our best model based on our chosen evaluation metrics. "
   ]
  },
  {
   "cell_type": "markdown",
   "metadata": {},
   "source": [
    "Let's use the <b>.score()</b> method to compare the training and test accuracies of the <b>forest_baseline</b> classifier."
   ]
  },
  {
   "cell_type": "code",
   "execution_count": 27,
   "metadata": {},
   "outputs": [
    {
     "name": "stdout",
     "output_type": "stream",
     "text": [
      "Training Score:  1.0\n",
      "Testing Score:  0.9824561403508771\n"
     ]
    }
   ],
   "source": [
    "# compare accuracy for training and test data using .score()\n",
    "print('Training Score: ', forest_baseline.score(X_train, y_train))\n",
    "print('Testing Score: ', forest_baseline.score(X_test, y_test))"
   ]
  },
  {
   "cell_type": "markdown",
   "metadata": {},
   "source": [
    "Comparing the training and test scores, we see <b>no evidence of overfitting</b>. For both the training and test data, the <b>forest_baseline</b> classifier has similar accuracy metrics. "
   ]
  },
  {
   "cell_type": "markdown",
   "metadata": {},
   "source": [
    "## Model 2b: Hypertuned Random Forest \n",
    "\n",
    "While <b>forest_baseline</b> had strong accuracy, let's see if we can improve it any further by tuning some hyperparameters. To figure out the optimal parameters, we can use the <b>GridSearchCV</b> tool from <b>sklearn.model_selection</b>. The main parameters I will focus on are <b>n_estimators</b> and <b>max_depth</b>. Once <b>GridSearchCV</b> returns its suggestions, I will generate <b>forest_tuned</b> and evaluate its performance using the same accuracy metrics."
   ]
  },
  {
   "cell_type": "markdown",
   "metadata": {},
   "source": [
    "To start, I will generate a parameter grid called <b>param_grid</b>. "
   ]
  },
  {
   "cell_type": "code",
   "execution_count": 28,
   "metadata": {},
   "outputs": [],
   "source": [
    "# generate param_grid\n",
    "forest_param_grid = {\n",
    "    \"n_estimators\": [10, 30, 100],\n",
    "    \"max_depth\": [None, 2, 6, 10],\n",
    "}"
   ]
  },
  {
   "cell_type": "code",
   "execution_count": 29,
   "metadata": {},
   "outputs": [
    {
     "name": "stdout",
     "output_type": "stream",
     "text": [
      "Optimal Parameters: {'max_depth': None, 'n_estimators': 100}\n"
     ]
    }
   ],
   "source": [
    "# use GridSearchCV to find optimal parameters\n",
    "rf_grid_search = GridSearchCV(forest_baseline, forest_param_grid, cv=3) # cv=3 for 3-fold cross validation\n",
    "rf_grid_search.fit(X_train, y_train)\n",
    "\n",
    "print(f\"Optimal Parameters: {rf_grid_search.best_params_}\")"
   ]
  },
  {
   "cell_type": "code",
   "execution_count": 30,
   "metadata": {},
   "outputs": [],
   "source": [
    "# instantiate RandomForestClassifier with hypertuned parameters (based on GridSearchCV results)\n",
    "forest_tuned = RandomForestClassifier(random_state=10, \n",
    "                                      max_depth=None,\n",
    "                                      n_estimators=100)\n",
    "\n",
    "# fit training data\n",
    "forest_tuned.fit(X_train, y_train)\n",
    "\n",
    "# predict test data\n",
    "forest_tuned_preds = forest_tuned.predict(X_test)"
   ]
  },
  {
   "cell_type": "code",
   "execution_count": 31,
   "metadata": {},
   "outputs": [
    {
     "name": "stdout",
     "output_type": "stream",
     "text": [
      "Testing Accuracy for Hypertuned Random Forest: 98.25%\n",
      "\n",
      "AUC is: 0.99\n"
     ]
    }
   ],
   "source": [
    "# calculate accuracy_score and AUC for test data to evaluate classifier performance\n",
    "\n",
    "# print accuracy_score\n",
    "print(\"Testing Accuracy for Hypertuned Random Forest: {:.4}%\".format(accuracy_score(y_test, forest_tuned_preds) * 100))\n",
    "\n",
    "# check AUC for predictions\n",
    "false_positive_rate, true_positive_rate, thresholds = roc_curve(y_test, forest_tuned_preds)\n",
    "roc_auc = auc(false_positive_rate, true_positive_rate)\n",
    "print('\\nAUC is: {0}'.format(round(roc_auc, 2)))"
   ]
  },
  {
   "cell_type": "code",
   "execution_count": 32,
   "metadata": {},
   "outputs": [
    {
     "data": {
      "image/png": "[encoded data removed]",
      "text/plain": [
       "<Figure size 432x288 with 2 Axes>"
      ]
     },
     "metadata": {
      "needs_background": "light"
     },
     "output_type": "display_data"
    }
   ],
   "source": [
    "# generate confusion matrix\n",
    "\n",
    "cnf_matrix = confusion_matrix(y_test, forest_tuned_preds)\n",
    "disp = ConfusionMatrixDisplay(confusion_matrix=cnf_matrix, display_labels=forest_tuned.classes_)\n",
    "disp.plot(cmap=plt.cm.Blues);"
   ]
  },
  {
   "cell_type": "code",
   "execution_count": 33,
   "metadata": {},
   "outputs": [
    {
     "name": "stdout",
     "output_type": "stream",
     "text": [
      "Training Score:  1.0\n",
      "Testing Score:  0.9824561403508771\n"
     ]
    }
   ],
   "source": [
    "# compare accuracy for training and test data using .score()\n",
    "print('Training Score: ', forest_tuned.score(X_train, y_train))\n",
    "print('Testing Score: ', forest_tuned.score(X_test, y_test))"
   ]
  },
  {
   "cell_type": "markdown",
   "metadata": {},
   "source": [
    "The <b>forest_tuned</b> classifier has the <b>exact same accuracy results</b> as <b>forest_baseline</b>. This makes sense because the <b>GridSearchCV</b> results yielded <b>max_depth=None</b> and <b>n_estimators=100</b> as the optimal values for these two parameters, which is exactly what the default parameters are. Essentially, <b>there is no difference<b> between <b>forest_tuned</b> and <b>forest_baseline</b>. They are identical models."
   ]
  },
  {
   "cell_type": "markdown",
   "metadata": {},
   "source": [
    "## Best Model\n",
    "\n",
    "Out of the 4 models we generated, let's choose the best one. We will start by revisiting their testing accuracies. Recall that <b>forest_baseline</b> and <b>forest_tuned</b> were identical classifiers because the optimal parameters yielded from <b>GridSearchCV</b> ended up being the default parameters. Therefore, to avoid repetition, we will just use <b>forest_baseline</b>. "
   ]
  },
  {
   "cell_type": "code",
   "execution_count": 35,
   "metadata": {},
   "outputs": [
    {
     "name": "stdout",
     "output_type": "stream",
     "text": [
      "Testing Accuracy for Baseline Decision Tree Classifier: 85.96%\n",
      "Testing Accuracy for Hypertuned Decision Tree Classifier: 92.98%\n",
      "Testing Accuracy for Random Forest Classifier: 98.25%\n"
     ]
    }
   ],
   "source": [
    "# comparing testing accuracy for dtree_baseline, dtree_tuned, forest_baseline\n",
    "# forest_baseline and forest_tuned were identical models\n",
    "\n",
    "# decision trees\n",
    "print(\"Testing Accuracy for Baseline Decision Tree Classifier: {:.4}%\".format(accuracy_score(y_test, pred) * 100))\n",
    "print(\"Testing Accuracy for Hypertuned Decision Tree Classifier: {:.4}%\".format(accuracy_score(y_test, pred_tuned) * 100))\n",
    "\n",
    "# random forest model\n",
    "print(\"Testing Accuracy for Random Forest Classifier: {:.4}%\".format(accuracy_score(y_test, forest_baseline_preds) * 100))"
   ]
  },
  {
   "cell_type": "markdown",
   "metadata": {},
   "source": [
    "We see that the highest testing accuracy was for the random forest classifier. We will proceed with <b>forest_baseline</b> and choose it as our <b>final model</b>. "
   ]
  },
  {
   "cell_type": "markdown",
   "metadata": {},
   "source": [
    "## Final Model\n",
    "\n",
    "As we have seen, the <b>accuracy</b> of our final model, <b>forest_baseline</b>, is <b>about 98%</b> and the <b>AUC</b> is <b>0.99</b>. Let's look at some other evaluation metrics using <b>classification_report</b>. "
   ]
  },
  {
   "cell_type": "code",
   "execution_count": 36,
   "metadata": {},
   "outputs": [
    {
     "name": "stdout",
     "output_type": "stream",
     "text": [
      "              precision    recall  f1-score   support\n",
      "\n",
      "           0       1.00      0.97      0.99        75\n",
      "           1       0.95      1.00      0.97        39\n",
      "\n",
      "    accuracy                           0.98       114\n",
      "   macro avg       0.98      0.99      0.98       114\n",
      "weighted avg       0.98      0.98      0.98       114\n",
      "\n"
     ]
    }
   ],
   "source": [
    "# print classification report for final model, forest_baseline\n",
    "print(classification_report(y_test, forest_baseline_preds))"
   ]
  },
  {
   "cell_type": "markdown",
   "metadata": {},
   "source": [
    "From the classification report, we see that the metrics were similar for both classes (benign and malignant tumors) across the board. \n",
    "\n",
    "The <b>precision</b>, which is a measure of true positives versus the total number of predicted positives, was <b>100% for benign tumors</b> and <b>95% for malignant tumors</b>. \n",
    "\n",
    "<b>Recall</b>, which is a measure of positives that were correctly identified, was <b>97% for the benign<b> class and <b>100% for the malignant</b> class. \n",
    "\n",
    "Lastly, the <b>f1_score</b>, which takes both precision and recall into account and is the percent of positive predictions that were correct, was <b>99% for benign</b> and <b>97% for malignant</b> tumors. \n",
    "\n",
    "Because the precision, recall, and f1_score metrics were similar values for both benign and malignant tumors, this is further proof that <b>class imbalance was not an issue</b>. On top of that, the <b>accuracy</b> of the chosen model was <b>98%</b> on the test data. More importantly, there were <b>no Type 2 errors (false negatives)</b>. This was of utmost importance because patients with breast cancer need to be properly diagnosed. All in all, the <b>forest_baseline</b> classifier is strong in many evaluation areas."
   ]
  },
  {
   "cell_type": "markdown",
   "metadata": {},
   "source": [
    "For our final model, let's go ahead and plot the <b>most important features</b>. From here, we can craft our suggestions for the stakeholder."
   ]
  },
  {
   "cell_type": "code",
   "execution_count": 39,
   "metadata": {},
   "outputs": [
    {
     "data": {
      "image/png": "[encoded data removed]",
      "text/plain": [
       "<Figure size 576x576 with 1 Axes>"
      ]
     },
     "metadata": {
      "needs_background": "light"
     },
     "output_type": "display_data"
    }
   ],
   "source": [
    "# create function for plotting most important features\n",
    "\n",
    "def plot_feature_importances(model):\n",
    "    n_features = X_train.shape[1]\n",
    "    plt.figure(figsize=(8,8))\n",
    "    plt.barh(range(n_features), model.feature_importances_, align='center') \n",
    "    plt.yticks(np.arange(n_features), X_train.columns.values) \n",
    "    plt.xlabel('Feature importance')\n",
    "    plt.ylabel('Feature')\n",
    "\n",
    "# plot most important features for forest_baseline classifier\n",
    "plot_feature_importances(forest_baseline)"
   ]
  },
  {
   "cell_type": "markdown",
   "metadata": {},
   "source": [
    "From the bar graph, we see that the three most important features in our classifer are <b>area_worst</b>, <b>concave points_worst</b>, and <b>radius_worst</b>. \n",
    "\n",
    "The <b>opinion_h1n1_risk</b> column represents a person's confidence on whether they will get sick or not without the H1N1 vaccine. The people surveyed needed to give a rated response from 1-5, with 1 being \"not at all worried\" (of getting H1N1 without the vaccine) and 5 being \"very high\" (meaning that they believed the risk of getting H1N1 was high without receiving the H1N1 vaccine).\n",
    "\n",
    "<b>opinion_h1n1_vacc_effective</b> was concerned with how effective a person believes the H1N1 vaccine is and was also rated on a scale of 1-5, with 1 being \"not at all effective\" and 5 being \"very effective\". \n",
    "\n",
    "Lastly, <b>health_worker</b> represents whether a person surveyed is in healthcare or not. This was a binary variable where \"0\" is \"false\" (not a healthcare worker) and \"1\" is \"true\" (person is a healthcare worker). \n",
    "\n",
    "Let's create visuals for each of these features to get a better understanding of how vaccination rates differed between the different categories. "
   ]
  },
  {
   "cell_type": "code",
   "execution_count": 53,
   "metadata": {},
   "outputs": [
    {
     "data": {
      "image/png": "[encoded data removed]",
      "text/plain": [
       "<Figure size 432x288 with 1 Axes>"
      ]
     },
     "metadata": {
      "needs_background": "light"
     },
     "output_type": "display_data"
    }
   ],
   "source": [
    "# Code Source: https://drivendata.co/blog/predict-flu-vaccine-data-benchmark/\n",
    "# generating bar graph for opinion_h1n1_risk\n",
    "\n",
    "h1n1_risk_counts = (h1n1_data[['opinion_h1n1_risk', 'h1n1_vaccine']]\n",
    "                   .groupby(['opinion_h1n1_risk', 'h1n1_vaccine'])\n",
    "                   .size()\n",
    "                   .unstack('h1n1_vaccine')\n",
    "                   )\n",
    "opinion_h1n1_risk_counts = h1n1_risk_counts.sum(axis='columns')\n",
    "h1n1_risk_props = h1n1_risk_counts.div(opinion_h1n1_risk_counts, axis='index')\n",
    "ax = h1n1_risk_props.plot.barh()\n",
    "ax.invert_yaxis()\n",
    "ax.legend(loc='center left',\n",
    "         bbox_to_anchor=(1.05, 0.5),\n",
    "         title='h1n1_vaccine');"
   ]
  },
  {
   "cell_type": "code",
   "execution_count": 54,
   "metadata": {},
   "outputs": [
    {
     "data": {
      "image/png": "[encoded data removed]",
      "text/plain": [
       "<Figure size 432x288 with 1 Axes>"
      ]
     },
     "metadata": {
      "needs_background": "light"
     },
     "output_type": "display_data"
    }
   ],
   "source": [
    "# Code Source: https://drivendata.co/blog/predict-flu-vaccine-data-benchmark/\n",
    "# generating bar graph for opinion_h1n1_vacc_effective\n",
    "\n",
    "h1n1_vacc_effective_counts = (h1n1_data[['opinion_h1n1_vacc_effective', 'h1n1_vaccine']]\n",
    "                   .groupby(['opinion_h1n1_vacc_effective', 'h1n1_vaccine'])\n",
    "                   .size()\n",
    "                   .unstack('h1n1_vaccine')\n",
    "                   )\n",
    "opinion_h1n1_vacc_effective_counts = h1n1_vacc_effective_counts.sum(axis='columns')\n",
    "h1n1_vacc_effective_props = h1n1_vacc_effective_counts.div(opinion_h1n1_vacc_effective_counts, axis='index')\n",
    "ax = h1n1_vacc_effective_props.plot.barh()\n",
    "ax.invert_yaxis()\n",
    "ax.legend(loc='center left',\n",
    "         bbox_to_anchor=(1.05, 0.5),\n",
    "         title='h1n1_vaccine');"
   ]
  },
  {
   "cell_type": "code",
   "execution_count": 55,
   "metadata": {},
   "outputs": [
    {
     "data": {
      "image/png": "[encoded data removed]",
      "text/plain": [
       "<Figure size 432x288 with 1 Axes>"
      ]
     },
     "metadata": {
      "needs_background": "light"
     },
     "output_type": "display_data"
    }
   ],
   "source": [
    "# Code Source: https://drivendata.co/blog/predict-flu-vaccine-data-benchmark/\n",
    "# generating bar graph for health_worker\n",
    "\n",
    "health_worker_counts = (h1n1_data[['health_worker', 'h1n1_vaccine']]\n",
    "                   .groupby(['health_worker', 'h1n1_vaccine'])\n",
    "                   .size()\n",
    "                   .unstack('h1n1_vaccine')\n",
    "                   )\n",
    "h1n1_health_worker_counts = health_worker_counts.sum(axis='columns')\n",
    "health_worker_props = health_worker_counts.div(h1n1_health_worker_counts, axis='index')\n",
    "ax = health_worker_props.plot.barh()\n",
    "ax.invert_yaxis()\n",
    "ax.legend(loc='center left',\n",
    "         bbox_to_anchor=(1.05, 0.5),\n",
    "         title='h1n1_vaccine');"
   ]
  },
  {
   "cell_type": "markdown",
   "metadata": {},
   "source": [
    "For the <b>opinion_h1n1_risk</b> and <b>opinion_h1n1_vacc_effective</b> bar graphs, we see that people are less likely to get vaccinated for H1N1 the lower their rating is. Those who gave a rating of 1 for both variables are the least likely to get the vaccine. Remember that for <b>opinon_h1n1_risk</b>, a rating of 1 represents people who do not think they are at risk of getting H1N1 without the vaccine; for <b>opinion_h1n1_vacc_effective</b>, a rating of 1 represents those who believe the H1N1 vaccine is not effective at all. \n",
    "\n",
    "For <b>health_worker</b>, non-healthcare workers have higher non-vaccination rates, with 80% not being vaccinated against H1N1. Healthcare workers are more balanced in their vaccination rates; 60% of the healthcare workers in the survey were unvaccinated while 40% did receive the H1N1 vaccine. "
   ]
  },
  {
   "cell_type": "markdown",
   "metadata": {},
   "source": [
    "## Conclusions\n",
    "\n",
    "To summarize: the final model that we selected was <b>forest_tuned</b>. This model had an <b>accuracy</b> of <b>about 81.4%</b> and an <b>AUC</b> of <b>0.6</b>. The <b>most important features</b> according to this classifier were: <b>opinion_h1n1_risk</b>, <b>opinion_h1n1_vacc_effective</b>, and <b>health_worker</b>.  \n",
    " \n",
    "Based on the classifier, my suggestions <b>to increase overall H1N1 vaccination rates</b> are to target the people who gave an <b>opinion_h1n1_risk rating of 1</b>. These people believe they are not at risk of getting H1N1, even without the vaccine, so H1N1 awareness efforts should focus on educating these people on the H1N1 disease and its effects. \n",
    "\n",
    "Similarly, people who gave <b>opinion_h1n1_vacc_effective ratings of 1 and 2 should also be targeted</b> because these people do not believe the vaccine is effective. They may require more information on the H1N1 vaccine and the science behind how it works to convince them to take it. \n",
    "\n",
    "Lastly, I suggest that outreach workers helming the vaccination awareness efforts <b>target non-healthcare workers</b>. This group is less likely to be vaccinated because they may not have seen the effects of H1N1 on patients."
   ]
  },
  {
   "cell_type": "markdown",
   "metadata": {},
   "source": [
    "## Limitations and Future Improvements\n",
    "\n",
    "In a real world scenario, I would want to improve the classifier's accuracy more before deployment. An 81.4% accuracy rate is not enough to be comfortable. This metric, for me, would need to be at least a 95% or higher. Achieving higher accuracy may be possible with further iterations of the <b>forest_tuned</b> model. \n",
    "\n",
    "Going back to how the model was generated, more hyperparameters could have been tuned. For <b>forest_tuned</b>, which was selected as our final classifier, only <b>n_estimators</b> and <b>max_depth</b> were specified. It is possible that tuning more hyperparameters could lead to better performance results. Furthermore, the parameter grid values used for <b>GridSearchCV</b> could have been chosen more deliberately. While <b>GridSearchCV</b> selects optimal values for different parameters, its search results are only as good as the choices given to it. \n",
    "\n",
    "Class imbalance could have also been factor based on the <b>classification report</b>, which showed that the metrics for <b>precision</b>, <b>recall</b>, and <b>f1_score</b> were better for the <b>non-vaccinated class</b>. While class imbalance was cited as a non-issue before the iterative modeling process began because the minority class made up more than 10% of the data, techniques such as <b>SMOTE</b> could have been employed to create a more balanced dataset overall. \n",
    "\n",
    "Another thing to factor in is the data itself. The data used in this project was from a survey given in 2009. At the time that this project is being done (2023), 14 years have gone by. This means that opinions on the H1N1 vaccine may have changed. In addition, quantifying opinions on a rating scale may not be the most robust approach. \n",
    "\n",
    "Overall, the final model had a decent accuracy rate and was solid at detecting true negatives and reducing Type 1 error. While it still needs to be fine-tuned and has room for improvement, it gives vaccine outreach workers a good starting point on the types of people to target to help increase H1N1 vaccination rates."
   ]
  }
 ],
 "metadata": {
  "kernelspec": {
   "display_name": "Python 3",
   "language": "python",
   "name": "python3"
  },
  "language_info": {
   "codemirror_mode": {
    "name": "ipython",
    "version": 3
   },
   "file_extension": ".py",
   "mimetype": "text/x-python",
   "name": "python",
   "nbconvert_exporter": "python",
   "pygments_lexer": "ipython3",
   "version": "3.8.5"
  }
 },
 "nbformat": 4,
 "nbformat_minor": 4
}
